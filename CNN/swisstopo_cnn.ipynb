{
 "cells": [
  {
   "attachments": {},
   "cell_type": "markdown",
   "metadata": {},
   "source": [
    "## Loading Packages"
   ]
  },
  {
   "cell_type": "code",
   "execution_count": 1,
   "metadata": {},
   "outputs": [],
   "source": [
    "\n",
    "import os, shutil\n",
    "\n",
    "import pandas as pd\n",
    "import numpy as np\n",
    "import os\n",
    "import tensorflow as tf\n",
    "from tensorflow import keras\n",
    "\n",
    "import seaborn as sns\n",
    "import matplotlib\n",
    "import matplotlib.pyplot as plt # plotting library\n",
    "%matplotlib inline\n",
    "#matplotlib.get_backend()\n",
    "\n",
    "from tensorflow.keras.applications import VGG16\n",
    "import plotly.graph_objects as go\n",
    "import plotly.io as pio\n",
    "import numpy as np"
   ]
  },
  {
   "cell_type": "code",
   "execution_count": 2,
   "metadata": {},
   "outputs": [
    {
     "name": "stdout",
     "output_type": "stream",
     "text": [
      "No GPU installed - You are as slow as a High-End Windows PC\n"
     ]
    }
   ],
   "source": [
    "if tf.test.gpu_device_name(): \n",
    "    print('Default GPU Device:{}'.format(tf.test.gpu_device_name()))\n",
    "else:\n",
    "   print(\"No GPU installed - You are as slow as a High-End Windows PC\")\n"
   ]
  },
  {
   "attachments": {},
   "cell_type": "markdown",
   "metadata": {},
   "source": [
    "## Data Preparation"
   ]
  },
  {
   "cell_type": "code",
   "execution_count": 3,
   "metadata": {},
   "outputs": [],
   "source": [
    "new_folders = False\n",
    "\n",
    "# Odrner für die Originaldaten\n",
    "original_dataset_dir = 'dataset/original_data'\n",
    "\n",
    "# Ordner für die Trainings, Validierungs und Testdaten\n",
    "base_dir = 'dataset/dataset'\n",
    "#os.mkdir(base_dir)\n",
    "\n",
    "#creates train-, validation- and test-folder\n",
    "train_dir = os.path.join(base_dir, 'train')\n",
    "#os.mkdir(train_dir)\n",
    "\n",
    "validation_dir = os.path.join(base_dir, 'validation')\n",
    "#os.mkdir(validation_dir)\n",
    "\n",
    "test_dir = os.path.join(base_dir, 'test')\n",
    "#os.mkdir(test_dir)\n",
    "\n",
    "# creates a cat and a dog folder in the train folder\n",
    "train_y_dir = os.path.join(train_dir, 'y')\n",
    "#os.mkdir(train_y_dir)\n",
    "train_n_dir = os.path.join(train_dir, 'n')\n",
    "#os.mkdir(train_n_dir)\n",
    "\n",
    "# creates a cat and a dog folder in the validation folder\n",
    "validation_y_dir = os.path.join(validation_dir, 'y')\n",
    "#os.mkdir(validation_y_dir)\n",
    "validation_n_dir = os.path.join(validation_dir, 'n')\n",
    "#os.mkdir(validation_n_dir)\n",
    "\n",
    "# creates a cat and a dog folder in the test folder\n",
    "test_y_dir = os.path.join(test_dir, 'y')\n",
    "#os.mkdir(test_y_dir)\n",
    "test_n_dir = os.path.join(test_dir, 'n')\n",
    "#os.mkdir(test_n_dir)\n",
    "\n",
    "if new_folders == True:\n",
    "    os.mkdir(base_dir)\n",
    "    os.mkdir(train_dir)\n",
    "    os.mkdir(validation_dir)\n",
    "    os.mkdir(test_dir)\n",
    "    os.mkdir(train_y_dir)\n",
    "    os.mkdir(train_n_dir)\n",
    "    os.mkdir(validation_y_dir)\n",
    "    os.mkdir(validation_n_dir)\n",
    "    os.mkdir(test_y_dir)\n",
    "    os.mkdir(test_n_dir)"
   ]
  },
  {
   "cell_type": "code",
   "execution_count": 4,
   "metadata": {},
   "outputs": [
    {
     "name": "stdout",
     "output_type": "stream",
     "text": [
      "total y images: 1667\n",
      "total n images: 1943\n"
     ]
    }
   ],
   "source": [
    "# read size of the dataset folders\n",
    "\n",
    "print('total y images:', len(os.listdir('dataset/original_data/y')))\n",
    "print('total n images:', len(os.listdir('dataset/original_data/n')))"
   ]
  },
  {
   "cell_type": "code",
   "execution_count": 5,
   "metadata": {},
   "outputs": [
    {
     "data": {
      "text/plain": [
       "1000"
      ]
     },
     "execution_count": 5,
     "metadata": {},
     "output_type": "execute_result"
    }
   ],
   "source": [
    "# calculates the number of images for train, validation and test\n",
    "train_size = 0.6\n",
    "validation_size = 0.2\n",
    "test_size = 0.2\n",
    "\n",
    "# calculates the number of images for train, validation and test\n",
    "train_y_size = int(len(os.listdir('dataset/original_data/y')) * train_size)\n",
    "train_n_size = int(len(os.listdir('dataset/original_data/n')) * train_size)\n",
    "\n",
    "validation_y_size = int(len(os.listdir('dataset/original_data/y')) * validation_size)\n",
    "validation_n_size = int(len(os.listdir('dataset/original_data/n')) * validation_size)\n",
    "\n",
    "test_y_size = int(len(os.listdir('dataset/original_data/y')) * test_size)\n",
    "test_n_size = int(len(os.listdir('dataset/original_data/n')) * test_size)\n",
    "\n",
    "train_y_size"
   ]
  },
  {
   "cell_type": "code",
   "execution_count": 6,
   "metadata": {},
   "outputs": [],
   "source": [
    "renamed = True\n",
    "y_dir = 'dataset/original_data/y/'\n",
    "n_dir = 'dataset/original_data/n/'\n",
    "if renamed == False:\n",
    "    # change name of the images in the dataset folder\n",
    "    # nur einmal Ausführen!\n",
    "\n",
    "\n",
    "\n",
    "    i = 0\n",
    "    for filename in os.listdir(y_dir):\n",
    "        os.rename(y_dir + filename, y_dir + 'y.' + str(i) + '.jpg')\n",
    "        i = i + 1\n",
    "\n",
    "    y = 0\n",
    "    for filename in os.listdir(n_dir):\n",
    "        os.rename(n_dir + filename, n_dir + 'n.' + str(y) + '.jpg')\n",
    "        y = y + 1\n",
    "        \n",
    "\n",
    "    # copy train_y_size images from the original dataset to the train_y_dir\n",
    "    fnames = ['y.{}.jpg'.format(i) for i in range(train_y_size)]\n",
    "    for fname in fnames:\n",
    "        src = os.path.join(y_dir, fname)\n",
    "        dst = os.path.join(train_y_dir, fname)\n",
    "        shutil.copyfile(src, dst)\n",
    "\n",
    "    # copy train_n_size images from the original dataset to the train_n_dir\n",
    "    fnames = ['n.{}.jpg'.format(i) for i in range(train_n_size)]\n",
    "    for fname in fnames:\n",
    "        src = os.path.join(n_dir, fname)\n",
    "        dst = os.path.join(train_n_dir, fname)\n",
    "        shutil.copyfile(src, dst)\n",
    "\n",
    "    # copy validation_y_size images from the original dataset to the validation_y_dir\n",
    "    fnames = ['y.{}.jpg'.format(i) for i in range(train_y_size, train_y_size + validation_y_size)]\n",
    "    for fname in fnames:\n",
    "        src = os.path.join(y_dir, fname)\n",
    "        dst = os.path.join(validation_y_dir, fname)\n",
    "        shutil.copyfile(src, dst)\n",
    "\n",
    "    # copy validation_n_size images from the original dataset to the validation_n_dir\n",
    "    fnames = ['n.{}.jpg'.format(i) for i in range(train_n_size, train_n_size + validation_n_size)]\n",
    "    for fname in fnames:\n",
    "        src = os.path.join(n_dir, fname)\n",
    "        dst = os.path.join(validation_n_dir, fname)\n",
    "        shutil.copyfile(src, dst)\n",
    "\n",
    "    # copy test_y_size images from the original dataset to the test_y_dir\n",
    "    fnames = ['y.{}.jpg'.format(i) for i in range(train_y_size + validation_y_size, train_y_size + validation_y_size + test_y_size)]\n",
    "    for fname in fnames:\n",
    "        src = os.path.join(y_dir, fname)\n",
    "        dst = os.path.join(test_y_dir, fname)\n",
    "        shutil.copyfile(src, dst)\n",
    "\n",
    "    # copy test_n_size images from the original dataset to the test_n_dir\n",
    "    fnames = ['n.{}.jpg'.format(i) for i in range(train_n_size + validation_n_size, train_n_size + validation_n_size + test_n_size)]\n",
    "    for fname in fnames:\n",
    "        src = os.path.join(n_dir, fname)\n",
    "        dst = os.path.join(test_n_dir, fname)\n",
    "        shutil.copyfile(src, dst)\n",
    "    "
   ]
  },
  {
   "cell_type": "code",
   "execution_count": null,
   "metadata": {},
   "outputs": [],
   "source": [
    "\n"
   ]
  },
  {
   "attachments": {},
   "cell_type": "markdown",
   "metadata": {},
   "source": [
    "## Control of the data"
   ]
  },
  {
   "cell_type": "code",
   "execution_count": 7,
   "metadata": {},
   "outputs": [
    {
     "name": "stdout",
     "output_type": "stream",
     "text": [
      "total training y images: 1000\n",
      "total training n images: 1165\n",
      "total validation y images: 333\n",
      "total validation n images: 388\n",
      "total test y images: 333\n",
      "total test n images: 388\n"
     ]
    }
   ],
   "source": [
    "print('total training y images:', len(os.listdir(train_y_dir)))\n",
    "print('total training n images:', len(os.listdir(train_n_dir)))\n",
    "print('total validation y images:', len(os.listdir(validation_y_dir)))\n",
    "print('total validation n images:', len(os.listdir(validation_n_dir)))\n",
    "print('total test y images:', len(os.listdir(test_y_dir)))\n",
    "print('total test n images:', len(os.listdir(test_n_dir)))"
   ]
  },
  {
   "attachments": {},
   "cell_type": "markdown",
   "metadata": {},
   "source": [
    "## Data Gathering with Generator\n"
   ]
  },
  {
   "cell_type": "code",
   "execution_count": 8,
   "metadata": {},
   "outputs": [
    {
     "name": "stdout",
     "output_type": "stream",
     "text": [
      "Found 2165 images belonging to 2 classes.\n",
      "Found 721 images belonging to 2 classes.\n"
     ]
    }
   ],
   "source": [
    "# without Data Augmentation\n",
    "\n",
    "train_datagen = keras.preprocessing.image.ImageDataGenerator(rescale=1./255)\n",
    "\n",
    "\n",
    "test_datagen = keras.preprocessing.image.ImageDataGenerator(rescale=1./255)\n",
    "\n",
    "train_generator = train_datagen.flow_from_directory(\n",
    "    train_dir,\n",
    "    target_size = (150, 150),\n",
    "    batch_size = 16,\n",
    "    class_mode = 'binary'\n",
    ")\n",
    "\n",
    "validation_generator = test_datagen.flow_from_directory(\n",
    "    validation_dir,\n",
    "    target_size = (150,150),\n",
    "    batch_size = 16,\n",
    "    class_mode = 'binary'\n",
    ")"
   ]
  },
  {
   "attachments": {},
   "cell_type": "markdown",
   "metadata": {},
   "source": [
    "Look at the output of one of these generators."
   ]
  },
  {
   "cell_type": "code",
   "execution_count": 9,
   "metadata": {},
   "outputs": [
    {
     "name": "stdout",
     "output_type": "stream",
     "text": [
      "data_batch shape: (16, 150, 150, 3)\n",
      "labels batch shape (16,)\n"
     ]
    }
   ],
   "source": [
    "\n",
    "for data_batch, labels_batch in train_generator:\n",
    "    print('data_batch shape:', data_batch.shape)\n",
    "    print('labels batch shape', labels_batch.shape)\n",
    "    break\n"
   ]
  },
  {
   "attachments": {},
   "cell_type": "markdown",
   "metadata": {},
   "source": [
    "## Modeling\n",
    "Nun sollen Sie ein Modell für diese Daten bauen."
   ]
  },
  {
   "cell_type": "code",
   "execution_count": 10,
   "metadata": {},
   "outputs": [],
   "source": [
    "from keras.callbacks import EarlyStopping\n",
    "\n",
    "early_stopping = EarlyStopping(monitor='acc', patience=10, verbose=1, mode='auto', restore_best_weights=True)"
   ]
  },
  {
   "cell_type": "code",
   "execution_count": 11,
   "metadata": {},
   "outputs": [
    {
     "name": "stdout",
     "output_type": "stream",
     "text": [
      "Model: \"sequential\"\n",
      "_________________________________________________________________\n",
      " Layer (type)                Output Shape              Param #   \n",
      "=================================================================\n",
      " conv2d (Conv2D)             (None, 148, 148, 32)      896       \n",
      "                                                                 \n",
      " dropout (Dropout)           (None, 148, 148, 32)      0         \n",
      "                                                                 \n",
      " conv2d_1 (Conv2D)           (None, 146, 146, 64)      18496     \n",
      "                                                                 \n",
      " dropout_1 (Dropout)         (None, 146, 146, 64)      0         \n",
      "                                                                 \n",
      " max_pooling2d (MaxPooling2D  (None, 73, 73, 64)       0         \n",
      " )                                                               \n",
      "                                                                 \n",
      " flatten (Flatten)           (None, 341056)            0         \n",
      "                                                                 \n",
      " dense (Dense)               (None, 256)               87310592  \n",
      "                                                                 \n",
      " dense_1 (Dense)             (None, 1)                 257       \n",
      "                                                                 \n",
      "=================================================================\n",
      "Total params: 87,330,241\n",
      "Trainable params: 87,330,241\n",
      "Non-trainable params: 0\n",
      "_________________________________________________________________\n"
     ]
    }
   ],
   "source": [
    "#create a base_line model\n",
    "\n",
    "base_model = keras.models.Sequential()\n",
    "\n",
    "base_model.add(keras.layers.Conv2D(32, (3,3), activation='relu', input_shape=(150,150,3)))\n",
    "base_model.add(keras.layers.Dropout(0.3))\n",
    "base_model.add(keras.layers.Conv2D(64, (3,3), activation='relu'))\n",
    "base_model.add(keras.layers.Dropout(0.3))\n",
    "base_model.add(keras.layers.MaxPooling2D((2,2)))\n",
    "\n",
    "\n",
    "\n",
    "base_model.add(tf.keras.layers.Flatten())\n",
    "base_model.add(keras.layers.Dense(256, activation='relu'))\n",
    "\n",
    "base_model.add(keras.layers.Dense(1, activation='sigmoid'))\n",
    "base_model.summary()\n",
    "\n"
   ]
  },
  {
   "cell_type": "code",
   "execution_count": 12,
   "metadata": {},
   "outputs": [
    {
     "name": "stdout",
     "output_type": "stream",
     "text": [
      "Epoch 1/30\n",
      "32/32 [==============================] - 58s 2s/step - loss: 8.6980 - acc: 0.5605 - val_loss: 0.6664 - val_acc: 0.5078\n",
      "Epoch 2/30\n",
      "32/32 [==============================] - 56s 2s/step - loss: 0.6631 - acc: 0.6707 - val_loss: 0.6647 - val_acc: 0.4922\n",
      "Epoch 3/30\n",
      "32/32 [==============================] - 56s 2s/step - loss: 0.7227 - acc: 0.6707 - val_loss: 0.6700 - val_acc: 0.4551\n",
      "Epoch 4/30\n",
      "32/32 [==============================] - 56s 2s/step - loss: 0.5817 - acc: 0.6966 - val_loss: 0.6648 - val_acc: 0.4668\n",
      "Epoch 5/30\n",
      "32/32 [==============================] - 56s 2s/step - loss: 0.5478 - acc: 0.7422 - val_loss: 0.6406 - val_acc: 0.5449\n",
      "Epoch 6/30\n",
      "32/32 [==============================] - 57s 2s/step - loss: 0.4527 - acc: 0.7910 - val_loss: 0.5680 - val_acc: 0.6660\n",
      "Epoch 7/30\n",
      "32/32 [==============================] - 57s 2s/step - loss: 0.4631 - acc: 0.8242 - val_loss: 0.5816 - val_acc: 0.7266\n",
      "Epoch 8/30\n",
      "32/32 [==============================] - 56s 2s/step - loss: 0.4361 - acc: 0.8301 - val_loss: 0.8502 - val_acc: 0.5938\n",
      "Epoch 9/30\n",
      "32/32 [==============================] - 56s 2s/step - loss: 0.4804 - acc: 0.8301 - val_loss: 0.5616 - val_acc: 0.7422\n",
      "Epoch 10/30\n",
      "32/32 [==============================] - 58s 2s/step - loss: 0.4230 - acc: 0.8496 - val_loss: 0.7600 - val_acc: 0.6172\n",
      "Epoch 11/30\n",
      "32/32 [==============================] - 57s 2s/step - loss: 0.3953 - acc: 0.8672 - val_loss: 0.7071 - val_acc: 0.6523\n",
      "Epoch 12/30\n",
      "32/32 [==============================] - 57s 2s/step - loss: 0.4506 - acc: 0.8503 - val_loss: 0.7210 - val_acc: 0.6445\n",
      "Epoch 13/30\n",
      "32/32 [==============================] - 58s 2s/step - loss: 0.3491 - acc: 0.8809 - val_loss: 0.7283 - val_acc: 0.6953\n",
      "Epoch 14/30\n",
      "32/32 [==============================] - 57s 2s/step - loss: 0.3199 - acc: 0.9082 - val_loss: 0.6673 - val_acc: 0.6973\n",
      "Epoch 15/30\n",
      "32/32 [==============================] - 58s 2s/step - loss: 0.3266 - acc: 0.8848 - val_loss: 1.5627 - val_acc: 0.5664\n",
      "Epoch 16/30\n",
      "32/32 [==============================] - 58s 2s/step - loss: 0.3319 - acc: 0.9023 - val_loss: 1.0549 - val_acc: 0.6816\n",
      "Epoch 17/30\n",
      "32/32 [==============================] - 58s 2s/step - loss: 0.2260 - acc: 0.9142 - val_loss: 0.5592 - val_acc: 0.7988\n",
      "Epoch 18/30\n",
      "32/32 [==============================] - 57s 2s/step - loss: 0.1959 - acc: 0.9355 - val_loss: 0.7359 - val_acc: 0.7344\n",
      "Epoch 19/30\n",
      "32/32 [==============================] - 58s 2s/step - loss: 0.2911 - acc: 0.9180 - val_loss: 0.7634 - val_acc: 0.6875\n",
      "Epoch 20/30\n",
      "32/32 [==============================] - 58s 2s/step - loss: 0.1688 - acc: 0.9492 - val_loss: 0.6569 - val_acc: 0.7246\n",
      "Epoch 21/30\n",
      "32/32 [==============================] - 57s 2s/step - loss: 0.2281 - acc: 0.9121 - val_loss: 0.8686 - val_acc: 0.7109\n",
      "Epoch 22/30\n",
      "32/32 [==============================] - 57s 2s/step - loss: 0.2274 - acc: 0.9242 - val_loss: 0.6757 - val_acc: 0.7305\n",
      "Epoch 23/30\n",
      "32/32 [==============================] - 59s 2s/step - loss: 0.2222 - acc: 0.9414 - val_loss: 0.4985 - val_acc: 0.8164\n",
      "Epoch 24/30\n",
      "32/32 [==============================] - 58s 2s/step - loss: 0.1409 - acc: 0.9512 - val_loss: 0.5488 - val_acc: 0.8203\n",
      "Epoch 25/30\n",
      "32/32 [==============================] - 59s 2s/step - loss: 0.1586 - acc: 0.9375 - val_loss: 0.6880 - val_acc: 0.7715\n",
      "Epoch 26/30\n",
      "32/32 [==============================] - 58s 2s/step - loss: 0.1941 - acc: 0.9492 - val_loss: 1.0067 - val_acc: 0.6602\n",
      "Epoch 27/30\n",
      "32/32 [==============================] - 58s 2s/step - loss: 0.1685 - acc: 0.9541 - val_loss: 1.5794 - val_acc: 0.6367\n",
      "Epoch 28/30\n",
      "32/32 [==============================] - 58s 2s/step - loss: 0.1201 - acc: 0.9648 - val_loss: 1.2482 - val_acc: 0.7012\n",
      "Epoch 29/30\n",
      "32/32 [==============================] - 57s 2s/step - loss: 0.1197 - acc: 0.9561 - val_loss: 0.6364 - val_acc: 0.8223\n",
      "Epoch 30/30\n",
      "32/32 [==============================] - 57s 2s/step - loss: 0.1421 - acc: 0.9648 - val_loss: 0.8947 - val_acc: 0.7500\n"
     ]
    }
   ],
   "source": [
    "\n",
    "\n",
    "\n",
    "\n",
    "# Compile the model with balanced class weights\n",
    "base_model.compile(loss='binary_crossentropy', optimizer=keras.optimizers.RMSprop(learning_rate=1e-3), metrics=['acc'])\n",
    "\n",
    "# Train the model with balanced class weights\n",
    "history = base_model.fit(\n",
    "    train_generator,\n",
    "    steps_per_epoch=32,\n",
    "    epochs=30,\n",
    "    validation_data=validation_generator,\n",
    "    validation_steps=32\n",
    ")\n"
   ]
  },
  {
   "cell_type": "code",
   "execution_count": 13,
   "metadata": {},
   "outputs": [],
   "source": [
    "acc = history.history['acc']\n",
    "val_acc = history.history['val_acc']\n",
    "loss = history.history['loss']\n",
    "val_loss = history.history['val_loss']\n",
    "\n",
    "\n",
    "\n",
    "fig = go.Figure()\n",
    "\n",
    "# Assuming you have defined the variables 'acc' and 'val_acc'\n",
    "#title\n",
    "fig.update_layout(\n",
    "    title=\"Base Model\",\n",
    "    xaxis_title=\"Epochs\",\n",
    "    yaxis_title=\"Accuracy\",\n",
    "    font=dict(\n",
    "        family=\"Courier New, monospace\",\n",
    "        size=18,\n",
    "        color=\"#7f7f7f\"\n",
    "    )\n",
    ")\n",
    "\n",
    "\n",
    "fig.add_trace(go.Scatter(x=np.arange(1, len(acc)+1), y=acc,\n",
    "                    mode='lines',\n",
    "                    name='accuracy'))\n",
    "fig.add_trace(go.Scatter(x=np.arange(1, len(val_acc)+1), y=val_acc,\n",
    "                    mode='lines',\n",
    "                    name='validation accuracy'))\n",
    "\n",
    "# Save the plot as an HTML file\n",
    "pio.write_html(fig, 'base_model.html')\n"
   ]
  },
  {
   "cell_type": "code",
   "execution_count": 14,
   "metadata": {},
   "outputs": [
    {
     "name": "stdout",
     "output_type": "stream",
     "text": [
      "Found 721 images belonging to 2 classes.\n",
      "46/46 [==============================] - 30s 664ms/step - loss: 0.3663 - acc: 0.8877\n",
      "test acc: 0.887656033039093\n",
      "46/46 [==============================] - 27s 587ms/step\n",
      "46/46 - 28s - loss: 0.3663 - acc: 0.8877 - 28s/epoch - 606ms/step\n",
      "\n",
      "Test accuracy: 0.36631548404693604\n",
      "\n",
      "Test loss: 0.887656033039093\n",
      "              precision    recall  f1-score   support\n",
      "\n",
      "           0       0.53      0.49      0.51       388\n",
      "           1       0.45      0.49      0.47       333\n",
      "\n",
      "    accuracy                           0.49       721\n",
      "   macro avg       0.49      0.49      0.49       721\n",
      "weighted avg       0.49      0.49      0.49       721\n",
      "\n"
     ]
    },
    {
     "data": {
      "image/png": "[encoded data removed]",
      "text/plain": [
       "<Figure size 640x480 with 2 Axes>"
      ]
     },
     "metadata": {},
     "output_type": "display_data"
    }
   ],
   "source": [
    "#plot confusion matrix for test data\n",
    "from sklearn.metrics import confusion_matrix\n",
    "import seaborn as sns\n",
    "import matplotlib.pyplot as plt\n",
    "\n",
    "\n",
    "\n",
    "test_generator = test_datagen.flow_from_directory(\n",
    "    test_dir,\n",
    "    target_size = (150,150),\n",
    "    batch_size = 16,\n",
    "    class_mode = 'binary'\n",
    "\n",
    ")\n",
    "\n",
    "test_loss, test_acc = base_model.evaluate(test_generator)\n",
    "print('test acc:', test_acc)\n",
    "y_pred = base_model.predict(test_generator)\n",
    "\n",
    "y_pred = np.round(y_pred)\n",
    "\n",
    "cm = confusion_matrix(test_generator.classes, y_pred)\n",
    "cm\n",
    "\n",
    "test_acc, test_loss = base_model.evaluate(test_generator, verbose=2)\n",
    "print('\\nTest accuracy:', test_acc)\n",
    "print('\\nTest loss:', test_loss)\n",
    "\n",
    "sns.heatmap(cm, annot=True, fmt='g')\n",
    "plt.title('Confusion matrix')\n",
    "plt.xlabel('Predicted label')\n",
    "plt.ylabel('True label')\n",
    "\n",
    "#save confusion matrix\n",
    "plt.savefig('base_model_confusion_matrix.png')\n",
    "\n",
    "\n",
    "#print classification report\n",
    "\n",
    "from sklearn.metrics import classification_report\n",
    "print(classification_report(test_generator.classes, y_pred))\n"
   ]
  },
  {
   "attachments": {},
   "cell_type": "markdown",
   "metadata": {},
   "source": [
    "# Pretrainned Model"
   ]
  },
  {
   "cell_type": "code",
   "execution_count": 15,
   "metadata": {},
   "outputs": [
    {
     "name": "stderr",
     "output_type": "stream",
     "text": [
      "c:\\Users\\benit\\anaconda3\\lib\\site-packages\\keras\\optimizers\\optimizer_v2\\rmsprop.py:140: UserWarning:\n",
      "\n",
      "The `lr` argument is deprecated, use `learning_rate` instead.\n",
      "\n"
     ]
    },
    {
     "name": "stdout",
     "output_type": "stream",
     "text": [
      "Epoch 1/30\n",
      "32/32 [==============================] - 76s 2s/step - loss: 0.4590 - acc: 0.7734 - val_loss: 0.4302 - val_acc: 0.8105\n",
      "Epoch 2/30\n",
      "32/32 [==============================] - 74s 2s/step - loss: 0.3485 - acc: 0.8691 - val_loss: 0.5823 - val_acc: 0.7441\n",
      "Epoch 3/30\n",
      "32/32 [==============================] - 74s 2s/step - loss: 0.3354 - acc: 0.8555 - val_loss: 0.7003 - val_acc: 0.6738\n",
      "Epoch 4/30\n",
      "32/32 [==============================] - 74s 2s/step - loss: 0.3495 - acc: 0.8574 - val_loss: 0.6258 - val_acc: 0.7070\n",
      "Epoch 5/30\n",
      "19/32 [================>.............] - ETA: 15s - loss: 0.3560 - acc: 0.8328"
     ]
    },
    {
     "ename": "KeyboardInterrupt",
     "evalue": "",
     "output_type": "error",
     "traceback": [
      "\u001b[1;31m---------------------------------------------------------------------------\u001b[0m",
      "\u001b[1;31mKeyboardInterrupt\u001b[0m                         Traceback (most recent call last)",
      "Cell \u001b[1;32mIn[15], line 19\u001b[0m\n\u001b[0;32m     16\u001b[0m model\u001b[39m.\u001b[39mcompile(loss\u001b[39m=\u001b[39m\u001b[39m'\u001b[39m\u001b[39mbinary_crossentropy\u001b[39m\u001b[39m'\u001b[39m, optimizer\u001b[39m=\u001b[39mkeras\u001b[39m.\u001b[39moptimizers\u001b[39m.\u001b[39mRMSprop(lr\u001b[39m=\u001b[39m\u001b[39m1e-3\u001b[39m), metrics\u001b[39m=\u001b[39m[\u001b[39m'\u001b[39m\u001b[39macc\u001b[39m\u001b[39m'\u001b[39m])\n\u001b[0;32m     18\u001b[0m \u001b[39m# Train the model\u001b[39;00m\n\u001b[1;32m---> 19\u001b[0m history1 \u001b[39m=\u001b[39m model\u001b[39m.\u001b[39;49mfit(\n\u001b[0;32m     20\u001b[0m     train_generator,\n\u001b[0;32m     21\u001b[0m     steps_per_epoch\u001b[39m=\u001b[39;49m\u001b[39m32\u001b[39;49m,\n\u001b[0;32m     22\u001b[0m     epochs\u001b[39m=\u001b[39;49m\u001b[39m30\u001b[39;49m,\n\u001b[0;32m     23\u001b[0m     validation_data\u001b[39m=\u001b[39;49mvalidation_generator,\n\u001b[0;32m     24\u001b[0m     validation_steps\u001b[39m=\u001b[39;49m\u001b[39m32\u001b[39;49m, callbacks\u001b[39m=\u001b[39;49m[early_stopping]\n\u001b[0;32m     25\u001b[0m )\n",
      "File \u001b[1;32mc:\\Users\\benit\\anaconda3\\lib\\site-packages\\keras\\utils\\traceback_utils.py:65\u001b[0m, in \u001b[0;36mfilter_traceback.<locals>.error_handler\u001b[1;34m(*args, **kwargs)\u001b[0m\n\u001b[0;32m     63\u001b[0m filtered_tb \u001b[39m=\u001b[39m \u001b[39mNone\u001b[39;00m\n\u001b[0;32m     64\u001b[0m \u001b[39mtry\u001b[39;00m:\n\u001b[1;32m---> 65\u001b[0m     \u001b[39mreturn\u001b[39;00m fn(\u001b[39m*\u001b[39margs, \u001b[39m*\u001b[39m\u001b[39m*\u001b[39mkwargs)\n\u001b[0;32m     66\u001b[0m \u001b[39mexcept\u001b[39;00m \u001b[39mException\u001b[39;00m \u001b[39mas\u001b[39;00m e:\n\u001b[0;32m     67\u001b[0m     filtered_tb \u001b[39m=\u001b[39m _process_traceback_frames(e\u001b[39m.\u001b[39m__traceback__)\n",
      "File \u001b[1;32mc:\\Users\\benit\\anaconda3\\lib\\site-packages\\keras\\engine\\training.py:1564\u001b[0m, in \u001b[0;36mModel.fit\u001b[1;34m(self, x, y, batch_size, epochs, verbose, callbacks, validation_split, validation_data, shuffle, class_weight, sample_weight, initial_epoch, steps_per_epoch, validation_steps, validation_batch_size, validation_freq, max_queue_size, workers, use_multiprocessing)\u001b[0m\n\u001b[0;32m   1556\u001b[0m \u001b[39mwith\u001b[39;00m tf\u001b[39m.\u001b[39mprofiler\u001b[39m.\u001b[39mexperimental\u001b[39m.\u001b[39mTrace(\n\u001b[0;32m   1557\u001b[0m     \u001b[39m\"\u001b[39m\u001b[39mtrain\u001b[39m\u001b[39m\"\u001b[39m,\n\u001b[0;32m   1558\u001b[0m     epoch_num\u001b[39m=\u001b[39mepoch,\n\u001b[1;32m   (...)\u001b[0m\n\u001b[0;32m   1561\u001b[0m     _r\u001b[39m=\u001b[39m\u001b[39m1\u001b[39m,\n\u001b[0;32m   1562\u001b[0m ):\n\u001b[0;32m   1563\u001b[0m     callbacks\u001b[39m.\u001b[39mon_train_batch_begin(step)\n\u001b[1;32m-> 1564\u001b[0m     tmp_logs \u001b[39m=\u001b[39m \u001b[39mself\u001b[39;49m\u001b[39m.\u001b[39;49mtrain_function(iterator)\n\u001b[0;32m   1565\u001b[0m     \u001b[39mif\u001b[39;00m data_handler\u001b[39m.\u001b[39mshould_sync:\n\u001b[0;32m   1566\u001b[0m         context\u001b[39m.\u001b[39masync_wait()\n",
      "File \u001b[1;32mc:\\Users\\benit\\anaconda3\\lib\\site-packages\\tensorflow\\python\\util\\traceback_utils.py:150\u001b[0m, in \u001b[0;36mfilter_traceback.<locals>.error_handler\u001b[1;34m(*args, **kwargs)\u001b[0m\n\u001b[0;32m    148\u001b[0m filtered_tb \u001b[39m=\u001b[39m \u001b[39mNone\u001b[39;00m\n\u001b[0;32m    149\u001b[0m \u001b[39mtry\u001b[39;00m:\n\u001b[1;32m--> 150\u001b[0m   \u001b[39mreturn\u001b[39;00m fn(\u001b[39m*\u001b[39margs, \u001b[39m*\u001b[39m\u001b[39m*\u001b[39mkwargs)\n\u001b[0;32m    151\u001b[0m \u001b[39mexcept\u001b[39;00m \u001b[39mException\u001b[39;00m \u001b[39mas\u001b[39;00m e:\n\u001b[0;32m    152\u001b[0m   filtered_tb \u001b[39m=\u001b[39m _process_traceback_frames(e\u001b[39m.\u001b[39m__traceback__)\n",
      "File \u001b[1;32mc:\\Users\\benit\\anaconda3\\lib\\site-packages\\tensorflow\\python\\eager\\def_function.py:915\u001b[0m, in \u001b[0;36mFunction.__call__\u001b[1;34m(self, *args, **kwds)\u001b[0m\n\u001b[0;32m    912\u001b[0m compiler \u001b[39m=\u001b[39m \u001b[39m\"\u001b[39m\u001b[39mxla\u001b[39m\u001b[39m\"\u001b[39m \u001b[39mif\u001b[39;00m \u001b[39mself\u001b[39m\u001b[39m.\u001b[39m_jit_compile \u001b[39melse\u001b[39;00m \u001b[39m\"\u001b[39m\u001b[39mnonXla\u001b[39m\u001b[39m\"\u001b[39m\n\u001b[0;32m    914\u001b[0m \u001b[39mwith\u001b[39;00m OptionalXlaContext(\u001b[39mself\u001b[39m\u001b[39m.\u001b[39m_jit_compile):\n\u001b[1;32m--> 915\u001b[0m   result \u001b[39m=\u001b[39m \u001b[39mself\u001b[39m\u001b[39m.\u001b[39m_call(\u001b[39m*\u001b[39margs, \u001b[39m*\u001b[39m\u001b[39m*\u001b[39mkwds)\n\u001b[0;32m    917\u001b[0m new_tracing_count \u001b[39m=\u001b[39m \u001b[39mself\u001b[39m\u001b[39m.\u001b[39mexperimental_get_tracing_count()\n\u001b[0;32m    918\u001b[0m without_tracing \u001b[39m=\u001b[39m (tracing_count \u001b[39m==\u001b[39m new_tracing_count)\n",
      "File \u001b[1;32mc:\\Users\\benit\\anaconda3\\lib\\site-packages\\tensorflow\\python\\eager\\def_function.py:947\u001b[0m, in \u001b[0;36mFunction._call\u001b[1;34m(self, *args, **kwds)\u001b[0m\n\u001b[0;32m    944\u001b[0m   \u001b[39mself\u001b[39m\u001b[39m.\u001b[39m_lock\u001b[39m.\u001b[39mrelease()\n\u001b[0;32m    945\u001b[0m   \u001b[39m# In this case we have created variables on the first call, so we run the\u001b[39;00m\n\u001b[0;32m    946\u001b[0m   \u001b[39m# defunned version which is guaranteed to never create variables.\u001b[39;00m\n\u001b[1;32m--> 947\u001b[0m   \u001b[39mreturn\u001b[39;00m \u001b[39mself\u001b[39m\u001b[39m.\u001b[39m_stateless_fn(\u001b[39m*\u001b[39margs, \u001b[39m*\u001b[39m\u001b[39m*\u001b[39mkwds)  \u001b[39m# pylint: disable=not-callable\u001b[39;00m\n\u001b[0;32m    948\u001b[0m \u001b[39melif\u001b[39;00m \u001b[39mself\u001b[39m\u001b[39m.\u001b[39m_stateful_fn \u001b[39mis\u001b[39;00m \u001b[39mnot\u001b[39;00m \u001b[39mNone\u001b[39;00m:\n\u001b[0;32m    949\u001b[0m   \u001b[39m# Release the lock early so that multiple threads can perform the call\u001b[39;00m\n\u001b[0;32m    950\u001b[0m   \u001b[39m# in parallel.\u001b[39;00m\n\u001b[0;32m    951\u001b[0m   \u001b[39mself\u001b[39m\u001b[39m.\u001b[39m_lock\u001b[39m.\u001b[39mrelease()\n",
      "File \u001b[1;32mc:\\Users\\benit\\anaconda3\\lib\\site-packages\\tensorflow\\python\\eager\\function.py:2496\u001b[0m, in \u001b[0;36mFunction.__call__\u001b[1;34m(self, *args, **kwargs)\u001b[0m\n\u001b[0;32m   2493\u001b[0m \u001b[39mwith\u001b[39;00m \u001b[39mself\u001b[39m\u001b[39m.\u001b[39m_lock:\n\u001b[0;32m   2494\u001b[0m   (graph_function,\n\u001b[0;32m   2495\u001b[0m    filtered_flat_args) \u001b[39m=\u001b[39m \u001b[39mself\u001b[39m\u001b[39m.\u001b[39m_maybe_define_function(args, kwargs)\n\u001b[1;32m-> 2496\u001b[0m \u001b[39mreturn\u001b[39;00m graph_function\u001b[39m.\u001b[39;49m_call_flat(\n\u001b[0;32m   2497\u001b[0m     filtered_flat_args, captured_inputs\u001b[39m=\u001b[39;49mgraph_function\u001b[39m.\u001b[39;49mcaptured_inputs)\n",
      "File \u001b[1;32mc:\\Users\\benit\\anaconda3\\lib\\site-packages\\tensorflow\\python\\eager\\function.py:1862\u001b[0m, in \u001b[0;36mConcreteFunction._call_flat\u001b[1;34m(self, args, captured_inputs, cancellation_manager)\u001b[0m\n\u001b[0;32m   1858\u001b[0m possible_gradient_type \u001b[39m=\u001b[39m gradients_util\u001b[39m.\u001b[39mPossibleTapeGradientTypes(args)\n\u001b[0;32m   1859\u001b[0m \u001b[39mif\u001b[39;00m (possible_gradient_type \u001b[39m==\u001b[39m gradients_util\u001b[39m.\u001b[39mPOSSIBLE_GRADIENT_TYPES_NONE\n\u001b[0;32m   1860\u001b[0m     \u001b[39mand\u001b[39;00m executing_eagerly):\n\u001b[0;32m   1861\u001b[0m   \u001b[39m# No tape is watching; skip to running the function.\u001b[39;00m\n\u001b[1;32m-> 1862\u001b[0m   \u001b[39mreturn\u001b[39;00m \u001b[39mself\u001b[39m\u001b[39m.\u001b[39m_build_call_outputs(\u001b[39mself\u001b[39;49m\u001b[39m.\u001b[39;49m_inference_function\u001b[39m.\u001b[39;49mcall(\n\u001b[0;32m   1863\u001b[0m       ctx, args, cancellation_manager\u001b[39m=\u001b[39;49mcancellation_manager))\n\u001b[0;32m   1864\u001b[0m forward_backward \u001b[39m=\u001b[39m \u001b[39mself\u001b[39m\u001b[39m.\u001b[39m_select_forward_and_backward_functions(\n\u001b[0;32m   1865\u001b[0m     args,\n\u001b[0;32m   1866\u001b[0m     possible_gradient_type,\n\u001b[0;32m   1867\u001b[0m     executing_eagerly)\n\u001b[0;32m   1868\u001b[0m forward_function, args_with_tangents \u001b[39m=\u001b[39m forward_backward\u001b[39m.\u001b[39mforward()\n",
      "File \u001b[1;32mc:\\Users\\benit\\anaconda3\\lib\\site-packages\\tensorflow\\python\\eager\\function.py:499\u001b[0m, in \u001b[0;36m_EagerDefinedFunction.call\u001b[1;34m(self, ctx, args, cancellation_manager)\u001b[0m\n\u001b[0;32m    497\u001b[0m \u001b[39mwith\u001b[39;00m _InterpolateFunctionError(\u001b[39mself\u001b[39m):\n\u001b[0;32m    498\u001b[0m   \u001b[39mif\u001b[39;00m cancellation_manager \u001b[39mis\u001b[39;00m \u001b[39mNone\u001b[39;00m:\n\u001b[1;32m--> 499\u001b[0m     outputs \u001b[39m=\u001b[39m execute\u001b[39m.\u001b[39;49mexecute(\n\u001b[0;32m    500\u001b[0m         \u001b[39mstr\u001b[39;49m(\u001b[39mself\u001b[39;49m\u001b[39m.\u001b[39;49msignature\u001b[39m.\u001b[39;49mname),\n\u001b[0;32m    501\u001b[0m         num_outputs\u001b[39m=\u001b[39;49m\u001b[39mself\u001b[39;49m\u001b[39m.\u001b[39;49m_num_outputs,\n\u001b[0;32m    502\u001b[0m         inputs\u001b[39m=\u001b[39;49margs,\n\u001b[0;32m    503\u001b[0m         attrs\u001b[39m=\u001b[39;49mattrs,\n\u001b[0;32m    504\u001b[0m         ctx\u001b[39m=\u001b[39;49mctx)\n\u001b[0;32m    505\u001b[0m   \u001b[39melse\u001b[39;00m:\n\u001b[0;32m    506\u001b[0m     outputs \u001b[39m=\u001b[39m execute\u001b[39m.\u001b[39mexecute_with_cancellation(\n\u001b[0;32m    507\u001b[0m         \u001b[39mstr\u001b[39m(\u001b[39mself\u001b[39m\u001b[39m.\u001b[39msignature\u001b[39m.\u001b[39mname),\n\u001b[0;32m    508\u001b[0m         num_outputs\u001b[39m=\u001b[39m\u001b[39mself\u001b[39m\u001b[39m.\u001b[39m_num_outputs,\n\u001b[1;32m   (...)\u001b[0m\n\u001b[0;32m    511\u001b[0m         ctx\u001b[39m=\u001b[39mctx,\n\u001b[0;32m    512\u001b[0m         cancellation_manager\u001b[39m=\u001b[39mcancellation_manager)\n",
      "File \u001b[1;32mc:\\Users\\benit\\anaconda3\\lib\\site-packages\\tensorflow\\python\\eager\\execute.py:54\u001b[0m, in \u001b[0;36mquick_execute\u001b[1;34m(op_name, num_outputs, inputs, attrs, ctx, name)\u001b[0m\n\u001b[0;32m     52\u001b[0m \u001b[39mtry\u001b[39;00m:\n\u001b[0;32m     53\u001b[0m   ctx\u001b[39m.\u001b[39mensure_initialized()\n\u001b[1;32m---> 54\u001b[0m   tensors \u001b[39m=\u001b[39m pywrap_tfe\u001b[39m.\u001b[39;49mTFE_Py_Execute(ctx\u001b[39m.\u001b[39;49m_handle, device_name, op_name,\n\u001b[0;32m     55\u001b[0m                                       inputs, attrs, num_outputs)\n\u001b[0;32m     56\u001b[0m \u001b[39mexcept\u001b[39;00m core\u001b[39m.\u001b[39m_NotOkStatusException \u001b[39mas\u001b[39;00m e:\n\u001b[0;32m     57\u001b[0m   \u001b[39mif\u001b[39;00m name \u001b[39mis\u001b[39;00m \u001b[39mnot\u001b[39;00m \u001b[39mNone\u001b[39;00m:\n",
      "\u001b[1;31mKeyboardInterrupt\u001b[0m: "
     ]
    }
   ],
   "source": [
    "\n",
    "\n",
    "# Load pre-trained VGG16 model without the top layers (include_top=False)\n",
    "pr_model = VGG16(weights='imagenet', include_top=False, input_shape=(150, 150, 3))\n",
    "\n",
    "# Freeze the pre-trained layers to prevent them from being updated during training\n",
    "pr_model.trainable = False\n",
    "\n",
    "# Create a new model by adding your own classifier on top of the pre-trained base\n",
    "model = keras.models.Sequential()\n",
    "model.add(pr_model)\n",
    "model.add(keras.layers.GlobalAveragePooling2D())\n",
    "model.add(keras.layers.Flatten())\n",
    "model.add(keras.layers.Dense(128, activation='relu'))\n",
    "model.add(keras.layers.Dense(1, activation='sigmoid'))\n",
    "\n",
    "# Compile the model\n",
    "model.compile(loss='binary_crossentropy', optimizer=keras.optimizers.RMSprop(lr=1e-3), metrics=['acc'])\n",
    "\n",
    "# Train the model\n",
    "history1 = model.fit(\n",
    "    train_generator,\n",
    "    steps_per_epoch=32,\n",
    "    epochs=30,\n",
    "    validation_data=validation_generator,\n",
    "    validation_steps=32, callbacks=[early_stopping]\n",
    ")\n",
    "\n",
    "\n"
   ]
  },
  {
   "cell_type": "code",
   "execution_count": null,
   "metadata": {},
   "outputs": [],
   "source": [
    "acc = history1.history['acc']\n",
    "val_acc = history1.history['val_acc']\n",
    "loss = history1.history['loss']\n",
    "val_loss = history1.history['val_loss']\n",
    "\n",
    "fig = go.Figure()\n",
    "\n",
    "# Assuming you have defined the variables 'acc' and 'val_acc'\n",
    "\n",
    "#title\n",
    "fig.update_layout(\n",
    "    title=\"Pretrained Model\",\n",
    "    xaxis_title=\"Epochs\",\n",
    "    yaxis_title=\"Accuracy\",\n",
    "    font=dict(\n",
    "        family=\"Courier New, monospace\",\n",
    "        size=18,\n",
    "        color=\"#7f7f7f\"\n",
    "    )\n",
    ")\n",
    "\n",
    "\n",
    "fig.add_trace(go.Scatter(x=np.arange(1, len(acc)+1), y=acc,\n",
    "                    mode='lines',\n",
    "                    name='accuracy'))\n",
    "fig.add_trace(go.Scatter(x=np.arange(1, len(val_acc)+1), y=val_acc,\n",
    "                    mode='lines',\n",
    "                    name='validation accuracy'))\n",
    "\n",
    "# Save the plot as an HTML file\n",
    "pio.write_html(fig, 'pretrained_model.html')\n",
    "\n",
    "\n",
    "\n",
    "test_generator = test_datagen.flow_from_directory(\n",
    "    test_dir,\n",
    "    target_size = (150,150),\n",
    "    batch_size = 32,\n",
    "    class_mode = 'binary'\n",
    ")\n",
    "\n",
    "test_loss, test_acc = model.evaluate(test_generator)\n",
    "print('test acc:', test_acc)\n",
    "y_pred = model.predict(test_generator)\n",
    "\n",
    "y_pred = np.round(y_pred)\n",
    "\n",
    "cm = confusion_matrix(test_generator.classes, y_pred)\n",
    "cm\n",
    "\n",
    "\n",
    "\n",
    "sns.heatmap(cm, annot=True, fmt='g')\n",
    "plt.title('Confusion matrix')\n",
    "plt.xlabel('Predicted label')\n",
    "plt.ylabel('True label')\n",
    "\n",
    "#save confusion matrix\n",
    "plt.savefig('base_model_confusion_matrix.png')\n"
   ]
  },
  {
   "cell_type": "code",
   "execution_count": null,
   "metadata": {},
   "outputs": [],
   "source": [
    "model = tf.keras.models.Sequential()\n",
    "\n",
    "# 1st convolutional layer\n",
    "model.add(tf.keras.layers.Conv2D(32, (3, 3), activation='relu', input_shape=(150,150,3)))\n",
    "model.add(tf.keras.layers.BatchNormalization())\n",
    "model.add(tf.keras.layers.MaxPooling2D(pool_size=(2, 2)))\n",
    "model.add(tf.keras.layers.Dropout(0.2))\n",
    "\n",
    "# 2nd convolutional layer\n",
    "model.add(tf.keras.layers.Conv2D(64, (3, 3), activation='relu'))\n",
    "model.add(tf.keras.layers.BatchNormalization())\n",
    "model.add(tf.keras.layers.MaxPooling2D(pool_size=(2, 2)))\n",
    "model.add(tf.keras.layers.Dropout(0.2))\n",
    "\n",
    "# 3rd convolutional layer\n",
    "model.add(tf.keras.layers.Conv2D(128, (3, 3), activation='relu'))\n",
    "model.add(tf.keras.layers.BatchNormalization())\n",
    "model.add(tf.keras.layers.MaxPooling2D(pool_size=(2, 2)))\n",
    "model.add(tf.keras.layers.Dropout(0.2))\n",
    "\n",
    "# FFNN\n",
    "model.add(tf.keras.layers.Flatten())\n",
    "model.add(tf.keras.layers.Dense(512, activation='relu'))\n",
    "model.add(tf.keras.layers.BatchNormalization())\n",
    "model.add(tf.keras.layers.Dropout(0.2))\n",
    "model.add(tf.keras.layers.Dense(1, activation='sigmoid'))"
   ]
  },
  {
   "cell_type": "code",
   "execution_count": null,
   "metadata": {},
   "outputs": [
    {
     "name": "stdout",
     "output_type": "stream",
     "text": [
      "Model: \"sequential_4\"\n",
      "_________________________________________________________________\n",
      " Layer (type)                Output Shape              Param #   \n",
      "=================================================================\n",
      " conv2d_5 (Conv2D)           (None, 148, 148, 32)      896       \n",
      "                                                                 \n",
      " batch_normalization_4 (Batc  (None, 148, 148, 32)     128       \n",
      " hNormalization)                                                 \n",
      "                                                                 \n",
      " max_pooling2d_4 (MaxPooling  (None, 74, 74, 32)       0         \n",
      " 2D)                                                             \n",
      "                                                                 \n",
      " dropout_6 (Dropout)         (None, 74, 74, 32)        0         \n",
      "                                                                 \n",
      " conv2d_6 (Conv2D)           (None, 72, 72, 64)        18496     \n",
      "                                                                 \n",
      " batch_normalization_5 (Batc  (None, 72, 72, 64)       256       \n",
      " hNormalization)                                                 \n",
      "                                                                 \n",
      " max_pooling2d_5 (MaxPooling  (None, 36, 36, 64)       0         \n",
      " 2D)                                                             \n",
      "                                                                 \n",
      " dropout_7 (Dropout)         (None, 36, 36, 64)        0         \n",
      "                                                                 \n",
      " conv2d_7 (Conv2D)           (None, 34, 34, 128)       73856     \n",
      "                                                                 \n",
      " batch_normalization_6 (Batc  (None, 34, 34, 128)      512       \n",
      " hNormalization)                                                 \n",
      "                                                                 \n",
      " max_pooling2d_6 (MaxPooling  (None, 17, 17, 128)      0         \n",
      " 2D)                                                             \n",
      "                                                                 \n",
      " dropout_8 (Dropout)         (None, 17, 17, 128)       0         \n",
      "                                                                 \n",
      " flatten_4 (Flatten)         (None, 36992)             0         \n",
      "                                                                 \n",
      " dense_8 (Dense)             (None, 512)               18940416  \n",
      "                                                                 \n",
      " batch_normalization_7 (Batc  (None, 512)              2048      \n",
      " hNormalization)                                                 \n",
      "                                                                 \n",
      " dropout_9 (Dropout)         (None, 512)               0         \n",
      "                                                                 \n",
      " dense_9 (Dense)             (None, 1)                 513       \n",
      "                                                                 \n",
      "=================================================================\n",
      "Total params: 19,037,121\n",
      "Trainable params: 19,035,649\n",
      "Non-trainable params: 1,472\n",
      "_________________________________________________________________\n"
     ]
    }
   ],
   "source": [
    "model.summary()"
   ]
  },
  {
   "cell_type": "code",
   "execution_count": null,
   "metadata": {},
   "outputs": [],
   "source": [
    "model.compile(loss='binary_crossentropy', optimizer='rmsprop', metrics=['accuracy'])"
   ]
  },
  {
   "cell_type": "code",
   "execution_count": null,
   "metadata": {},
   "outputs": [
    {
     "name": "stdout",
     "output_type": "stream",
     "text": [
      "Epoch 1/15\n",
      "50/50 [==============================] - 35s 661ms/step - loss: 0.9089 - accuracy: 0.7200 - val_loss: 0.8924 - val_accuracy: 0.5785\n",
      "Epoch 2/15\n",
      "50/50 [==============================] - 28s 569ms/step - loss: 0.6218 - accuracy: 0.7760 - val_loss: 1.6174 - val_accuracy: 0.5785\n",
      "Epoch 3/15\n",
      "50/50 [==============================] - 28s 570ms/step - loss: 0.5760 - accuracy: 0.8000 - val_loss: 2.2947 - val_accuracy: 0.5785\n",
      "Epoch 4/15\n",
      "50/50 [==============================] - 29s 574ms/step - loss: 0.4482 - accuracy: 0.8360 - val_loss: 3.3709 - val_accuracy: 0.5785\n",
      "Epoch 5/15\n",
      "49/50 [============================>.] - ETA: 0s - loss: 0.4064 - accuracy: 0.8449"
     ]
    }
   ],
   "source": [
    "history2 = model.fit(train_generator, epochs=15, validation_data=validation_generator, callbacks=[early_stopping])"
   ]
  },
  {
   "cell_type": "code",
   "execution_count": null,
   "metadata": {},
   "outputs": [
    {
     "ename": "KeyError",
     "evalue": "'accuracy'",
     "output_type": "error",
     "traceback": [
      "\u001b[1;31m---------------------------------------------------------------------------\u001b[0m",
      "\u001b[1;31mKeyError\u001b[0m                                  Traceback (most recent call last)",
      "Cell \u001b[1;32mIn[92], line 5\u001b[0m\n\u001b[0;32m      3\u001b[0m plt\u001b[39m.\u001b[39mfigure(figsize\u001b[39m=\u001b[39m(\u001b[39m10\u001b[39m, \u001b[39m5\u001b[39m))\n\u001b[0;32m      4\u001b[0m sns\u001b[39m.\u001b[39mset_style(\u001b[39m\"\u001b[39m\u001b[39mdarkgrid\u001b[39m\u001b[39m\"\u001b[39m)\n\u001b[1;32m----> 5\u001b[0m plt\u001b[39m.\u001b[39mplot(history\u001b[39m.\u001b[39;49mhistory[\u001b[39m'\u001b[39;49m\u001b[39maccuracy\u001b[39;49m\u001b[39m'\u001b[39;49m])\n\u001b[0;32m      6\u001b[0m plt\u001b[39m.\u001b[39mplot(history\u001b[39m.\u001b[39mhistory[\u001b[39m'\u001b[39m\u001b[39mval_accuracy\u001b[39m\u001b[39m'\u001b[39m])\n\u001b[0;32m      7\u001b[0m plt\u001b[39m.\u001b[39mtitle(\u001b[39m'\u001b[39m\u001b[39mModel 4 Training and Validation Accuracy 6000 Images with Data Augmentation and Batch Normalization\u001b[39m\u001b[39m'\u001b[39m)\n",
      "\u001b[1;31mKeyError\u001b[0m: 'accuracy'"
     ]
    },
    {
     "data": {
      "text/plain": [
       "<Figure size 1000x500 with 0 Axes>"
      ]
     },
     "metadata": {},
     "output_type": "display_data"
    }
   ],
   "source": [
    "acc = history2.history['accuracy']\n",
    "val_acc = history2.history['val_accuracy']\n",
    "loss = history2.history['loss']\n",
    "val_loss = history2.history['val_loss']\n",
    "\n",
    "\n",
    "\n",
    "fig = go.Figure()\n",
    "\n",
    "# Assuming you have defined the variables 'acc' and 'val_acc'\n",
    "\n",
    "#title\n",
    "fig.update_layout(\n",
    "    title=\"CNN Model\",\n",
    "    xaxis_title=\"Epochs\",\n",
    "    yaxis_title=\"Accuracy\",\n",
    "    font=dict(\n",
    "        family=\"Courier New, monospace\",\n",
    "        size=18,\n",
    "        color=\"#7f7f7f\"\n",
    "    )\n",
    ")\n",
    "\n",
    "fig.add_trace(go.Scatter(x=np.arange(1, len(acc)+1), y=acc,\n",
    "                    mode='lines',\n",
    "                    name='accuracy'))\n",
    "fig.add_trace(go.Scatter(x=np.arange(1, len(val_acc)+1), y=val_acc,\n",
    "                    mode='lines',\n",
    "                    name='validation accuracy'))\n",
    "\n",
    "# Save the plot as an HTML file\n",
    "pio.write_html(fig, 'C_D_model.html')\n",
    "\n",
    "\n",
    "test_generator = test_datagen.flow_from_directory(\n",
    "    test_dir,\n",
    "    target_size = (150,150),\n",
    "    batch_size = 16,\n",
    "    class_mode = 'binary'\n",
    ")\n",
    "\n",
    "test_loss, test_acc = model.evaluate(test_generator)\n",
    "print('test acc:', test_acc)\n",
    "y_pred = model.predict(test_generator)\n",
    "\n",
    "y_pred = np.round(y_pred)\n",
    "\n",
    "cm = confusion_matrix(test_generator.classes, y_pred)\n",
    "cm\n",
    "\n",
    "\n",
    "\n",
    "sns.heatmap(cm, annot=True, fmt='g')\n",
    "plt.title('Confusion matrix')\n",
    "plt.xlabel('Predicted label')\n",
    "plt.ylabel('True label')\n",
    "\n",
    "#save confusion matrix\n",
    "plt.savefig('base_model_confusion_matrix.png')\n"
   ]
  },
  {
   "cell_type": "code",
   "execution_count": null,
   "metadata": {},
   "outputs": [
    {
     "name": "stdout",
     "output_type": "stream",
     "text": [
      "Found 358 images belonging to 2 classes.\n",
      "18/18 [==============================] - 11s 615ms/step - loss: 1.1475 - accuracy: 0.7207\n",
      "test acc: 0.7206704020500183\n"
     ]
    }
   ],
   "source": [
    "# test the model\n",
    "test_generator = test_datagen.flow_from_directory(\n",
    "    test_dir,\n",
    "    target_size = (150,150),\n",
    "    batch_size = 16,\n",
    "    class_mode = 'binary'\n",
    ")\n",
    "\n",
    "test_loss, test_acc = model.evaluate(test_generator)\n",
    "print('test acc:', test_acc)\n"
   ]
  },
  {
   "cell_type": "code",
   "execution_count": null,
   "metadata": {},
   "outputs": [],
   "source": []
  }
 ],
 "metadata": {
  "kernelspec": {
   "display_name": "Python 3 (ipykernel)",
   "language": "python",
   "name": "python3"
  },
  "language_info": {
   "codemirror_mode": {
    "name": "ipython",
    "version": 3
   },
   "file_extension": ".py",
   "mimetype": "text/x-python",
   "name": "python",
   "nbconvert_exporter": "python",
   "pygments_lexer": "ipython3",
   "version": "3.10.9"
  }
 },
 "nbformat": 4,
 "nbformat_minor": 1
}
